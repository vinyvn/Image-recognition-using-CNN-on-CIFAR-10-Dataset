{
  "nbformat": 4,
  "nbformat_minor": 0,
  "metadata": {
    "colab": {
      "provenance": [],
      "toc_visible": true,
      "authorship_tag": "ABX9TyMv518czvywbfqv+LsEkS8Y",
      "include_colab_link": true
    },
    "kernelspec": {
      "name": "python3",
      "display_name": "Python 3"
    },
    "language_info": {
      "name": "python"
    }
  },
  "cells": [
    {
      "cell_type": "markdown",
      "metadata": {
        "id": "view-in-github",
        "colab_type": "text"
      },
      "source": [
        "<a href=\"https://colab.research.google.com/github/vinyvn/Image-recognition-using-CNN-on-CIFAR-10-Dataset/blob/main/Image_recognition_using_CNN_on_CIFAR_10_Dataset.ipynb\" target=\"_parent\"><img src=\"https://colab.research.google.com/assets/colab-badge.svg\" alt=\"Open In Colab\"/></a>"
      ]
    },
    {
      "cell_type": "code",
      "execution_count": null,
      "metadata": {
        "id": "WYRwrwoqv1A6"
      },
      "outputs": [],
      "source": [
        "import numpy as np\n",
        "from keras.datasets import cifar10\n",
        "from keras.models import Sequential\n",
        "from keras.layers import Dense, Dropout, Flatten, Conv2D, MaxPooling2D\n",
        "from keras.utils import np_utils"
      ]
    },
    {
      "cell_type": "code",
      "source": [
        "# Load the dataset\n",
        "(X_train, y_train), (X_test, y_test) = cifar10.load_data()\n",
        "\n",
        "# Normalize the data\n",
        "X_train = X_train.astype('float32') / 255\n",
        "X_test = X_test.astype('float32') / 255\n",
        "\n",
        "# Convert class labels to binary class labels\n",
        "y_train = np_utils.to_categorical(y_train, 10)\n",
        "y_test = np_utils.to_categorical(y_test, 10)\n"
      ],
      "metadata": {
        "colab": {
          "base_uri": "https://localhost:8080/"
        },
        "id": "fDlEzqw6w3Jf",
        "outputId": "e96722ba-5820-426d-a450-74e9685e9fe2"
      },
      "execution_count": null,
      "outputs": [
        {
          "output_type": "stream",
          "name": "stdout",
          "text": [
            "Downloading data from https://www.cs.toronto.edu/~kriz/cifar-10-python.tar.gz\n",
            "170498071/170498071 [==============================] - 3s 0us/step\n"
          ]
        }
      ]
    },
    {
      "cell_type": "markdown",
      "source": [
        "CNN modeling"
      ],
      "metadata": {
        "id": "fi7rcmC6xBgZ"
      }
    },
    {
      "cell_type": "code",
      "source": [
        "model = Sequential()\n",
        "\n",
        "model.add(Conv2D(32, (3, 3), activation='relu', input_shape=(32, 32, 3)))\n",
        "model.add(Conv2D(32, (3, 3), activation='relu'))\n",
        "model.add(MaxPooling2D(pool_size=(2, 2)))\n",
        "model.add(Dropout(0.25))\n",
        "\n",
        "model.add(Conv2D(64, (3, 3), activation='relu'))\n",
        "model.add(Conv2D(64, (3, 3), activation='relu'))\n",
        "model.add(MaxPooling2D(pool_size=(2, 2)))\n",
        "model.add(Dropout(0.25))\n",
        "\n",
        "model.add(Flatten())\n",
        "model.add(Dense(512, activation='relu'))\n",
        "model.add(Dropout(0.5))\n",
        "model.add(Dense(10, activation='softmax'))\n"
      ],
      "metadata": {
        "id": "TVSgphCrxGt1"
      },
      "execution_count": null,
      "outputs": []
    },
    {
      "cell_type": "markdown",
      "source": [
        "Then, let's compile and train the model"
      ],
      "metadata": {
        "id": "S168IBoqxPYI"
      }
    },
    {
      "cell_type": "code",
      "source": [
        "# Compile the model\n",
        "model.compile(loss='categorical_crossentropy', optimizer='adam', metrics=['accuracy'])\n",
        "\n",
        "# Train the model\n",
        "model.fit(X_train, y_train, batch_size=128, epochs=10, validation_data=(X_test, y_test), shuffle=True)\n"
      ],
      "metadata": {
        "colab": {
          "base_uri": "https://localhost:8080/"
        },
        "id": "ZGo20WhVxaI4",
        "outputId": "426937d9-6b8f-4603-99db-835de9d5fa3a"
      },
      "execution_count": null,
      "outputs": [
        {
          "output_type": "stream",
          "name": "stdout",
          "text": [
            "Epoch 1/10\n",
            "391/391 [==============================] - 137s 347ms/step - loss: 1.6992 - accuracy: 0.3738 - val_loss: 1.3469 - val_accuracy: 0.5027\n",
            "Epoch 2/10\n",
            "391/391 [==============================] - 136s 347ms/step - loss: 1.3052 - accuracy: 0.5318 - val_loss: 1.1396 - val_accuracy: 0.5923\n",
            "Epoch 3/10\n",
            "391/391 [==============================] - 136s 347ms/step - loss: 1.1383 - accuracy: 0.5943 - val_loss: 0.9956 - val_accuracy: 0.6481\n",
            "Epoch 4/10\n",
            "391/391 [==============================] - 143s 365ms/step - loss: 1.0260 - accuracy: 0.6356 - val_loss: 0.9181 - val_accuracy: 0.6750\n",
            "Epoch 5/10\n",
            "391/391 [==============================] - 141s 360ms/step - loss: 0.9449 - accuracy: 0.6667 - val_loss: 0.9238 - val_accuracy: 0.6772\n",
            "Epoch 6/10\n",
            "391/391 [==============================] - 141s 359ms/step - loss: 0.8747 - accuracy: 0.6907 - val_loss: 0.8332 - val_accuracy: 0.7064\n",
            "Epoch 7/10\n",
            "391/391 [==============================] - 141s 360ms/step - loss: 0.8252 - accuracy: 0.7098 - val_loss: 0.7775 - val_accuracy: 0.7330\n",
            "Epoch 8/10\n",
            "391/391 [==============================] - 145s 370ms/step - loss: 0.7781 - accuracy: 0.7260 - val_loss: 0.7262 - val_accuracy: 0.7515\n",
            "Epoch 9/10\n",
            "391/391 [==============================] - 142s 363ms/step - loss: 0.7437 - accuracy: 0.7400 - val_loss: 0.7311 - val_accuracy: 0.7495\n",
            "Epoch 10/10\n",
            "391/391 [==============================] - 142s 362ms/step - loss: 0.7134 - accuracy: 0.7486 - val_loss: 0.7129 - val_accuracy: 0.7545\n"
          ]
        },
        {
          "output_type": "execute_result",
          "data": {
            "text/plain": [
              "<keras.callbacks.History at 0x7ff2422e7fa0>"
            ]
          },
          "metadata": {},
          "execution_count": 4
        }
      ]
    },
    {
      "cell_type": "markdown",
      "source": [
        "Finally, let's evaluate the model on the test set"
      ],
      "metadata": {
        "id": "RgPbOryQxljU"
      }
    },
    {
      "cell_type": "code",
      "source": [
        "# Evaluate the model on the test set\n",
        "score = model.evaluate(X_test, y_test, verbose=0)\n",
        "\n",
        "# Print the test accuracy\n",
        "print('Test accuracy:', score[1])\n"
      ],
      "metadata": {
        "colab": {
          "base_uri": "https://localhost:8080/"
        },
        "id": "ZOEK9tfzxtHl",
        "outputId": "6e569a10-09e7-4cb9-ef3f-ad1a412fba8a"
      },
      "execution_count": null,
      "outputs": [
        {
          "output_type": "stream",
          "name": "stdout",
          "text": [
            "Test accuracy: 0.7544999718666077\n"
          ]
        }
      ]
    }
  ]
}